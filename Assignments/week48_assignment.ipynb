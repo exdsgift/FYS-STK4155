{
  "cells": [
    {
      "cell_type": "markdown",
      "id": "30071d16",
      "metadata": {
        "editable": true,
        "id": "30071d16"
      },
      "source": [
        "<!-- HTML file automatically generated from DocOnce source (https://github.com/doconce/doconce/)\n",
        "doconce format html exercisesweek48.do.txt  -->\n",
        "<!-- dom:TITLE: Exercises week 48 -->"
      ]
    },
    {
      "cell_type": "markdown",
      "id": "268eaea0",
      "metadata": {
        "editable": true,
        "id": "268eaea0"
      },
      "source": [
        "# Exercises week 48\n",
        "**November 25-29, 2024**\n",
        "\n",
        "Date: **Deadline is Friday November 29 at midnight**"
      ]
    },
    {
      "cell_type": "markdown",
      "id": "1e04cbee",
      "metadata": {
        "editable": true,
        "id": "1e04cbee"
      },
      "source": [
        "# Overarching aims of the exercises this week\n",
        "\n",
        "The exercise this week is a simple course survey and feedback.  This\n",
        "is important for us in order to improve our teaching material, the\n",
        "active learning format and anything else related to a succesful\n",
        "mastering of central machine learning methods and their applications."
      ]
    },
    {
      "cell_type": "markdown",
      "id": "78363328",
      "metadata": {
        "editable": true,
        "id": "78363328"
      },
      "source": [
        "### Why did you choose this course?"
      ]
    },
    {
      "cell_type": "markdown",
      "source": [
        "the course was really interesting, I am a data science student and many topics I had already covered, but I really liked the approach"
      ],
      "metadata": {
        "id": "QDKDAd5EkX0G"
      },
      "id": "QDKDAd5EkX0G"
    },
    {
      "cell_type": "markdown",
      "id": "d4950ede",
      "metadata": {
        "editable": true,
        "id": "d4950ede"
      },
      "source": [
        "### What was your programming knowledge before you started?\n",
        "\n",
        "And do you feel this course added to your programming competences and skills?"
      ]
    },
    {
      "cell_type": "markdown",
      "source": [
        "I am pursuing a master's degree in data science. My previous knowledge is in line with what is covered."
      ],
      "metadata": {
        "id": "UrmXgZ8Rk1sh"
      },
      "id": "UrmXgZ8Rk1sh"
    },
    {
      "cell_type": "markdown",
      "id": "95e23f0c",
      "metadata": {
        "editable": true,
        "id": "95e23f0c"
      },
      "source": [
        "### How do you judge your own level of knowledge on machine learning before and after this course?\n",
        "\n",
        "Here you can discuss your level of skill/knowledge at the start of course\n",
        "and at the end of the course and how these matched the level of\n",
        "skill/knowledge needed to complete the projects."
      ]
    },
    {
      "cell_type": "markdown",
      "source": [
        "I feel I have improved a lot, especially in terms of coding, especially thanks to the projects and assignments"
      ],
      "metadata": {
        "id": "v1Yw7_sVk7m0"
      },
      "id": "v1Yw7_sVk7m0"
    },
    {
      "cell_type": "markdown",
      "id": "db819721",
      "metadata": {
        "editable": true,
        "id": "db819721"
      },
      "source": [
        "### Did the projects and the teaching material allow you to deepen your insights about Machine Learning methods?\n",
        "\n",
        "Feel free to comment here."
      ]
    },
    {
      "cell_type": "markdown",
      "source": [
        "Yes the resources provided were sufficient. Furthermore, I really enjoyed delving into different topics independently."
      ],
      "metadata": {
        "id": "cG6qWjq7ldUY"
      },
      "id": "cG6qWjq7ldUY"
    },
    {
      "cell_type": "markdown",
      "id": "61d153a4",
      "metadata": {
        "editable": true,
        "id": "61d153a4"
      },
      "source": [
        "### Project based teaching and active learning\n",
        "\n",
        "This is a project based course and we as teachers would like to keep\n",
        "it as it is since we see very clearly that people who attend this\n",
        "course have a very good learning outcome. Project based courses are\n",
        "however demanding (and expensive seen from the university admin) when\n",
        "it comes to proper feedback and evaluations. Feel free to discuss\n",
        "whether you found a project-based useful. Feel also free to comment upon things we can improve upon or\n",
        "alternative ways to assess whether the learning outcomes have been\n",
        "achieved. Would you for example prefer a standard 4 hours written exam\n",
        "be something you would prefer?  Or other alternatives to projects? We\n",
        "would very much value your thoughts here since projects are an\n",
        "essential part of this course."
      ]
    },
    {
      "cell_type": "markdown",
      "source": [
        "I think that the project-based assessment mode is really perfect for combining theory with practice, especially for a discipline like this. I also think that the projects can eventually be used as material to include in the CV. The only advice I would make is perhaps to provide some insights on Linkedin, so that connections can be made between students, universities and companies."
      ],
      "metadata": {
        "id": "FDyB-N2CmOWl"
      },
      "id": "FDyB-N2CmOWl"
    },
    {
      "cell_type": "markdown",
      "id": "ee1af3ff",
      "metadata": {
        "editable": true,
        "id": "ee1af3ff"
      },
      "source": [
        "### Usefulness of the weekly exercises\n",
        "\n",
        "Did the weekly exercises help in getting started with the projects?\n",
        "How relevant where they for solving the projects?  Feel free to\n",
        "elaborate"
      ]
    },
    {
      "cell_type": "markdown",
      "source": [
        "I think the exercises were very important, both for the projects and for discussing the week's lesson with classmates."
      ],
      "metadata": {
        "id": "ewaW7ybpmdi1"
      },
      "id": "ewaW7ybpmdi1"
    },
    {
      "cell_type": "markdown",
      "id": "46a35899",
      "metadata": {
        "editable": true,
        "id": "46a35899"
      },
      "source": [
        "### Lab sessions and lectures\n",
        "\n",
        "Was there a good link between lectures and lab sessions?\n",
        "Feel\n",
        "free to comment."
      ]
    },
    {
      "cell_type": "markdown",
      "source": [
        "yes I think so"
      ],
      "metadata": {
        "id": "-aoK6HeYmkEE"
      },
      "id": "-aoK6HeYmkEE"
    },
    {
      "cell_type": "markdown",
      "id": "f6524f03",
      "metadata": {
        "editable": true,
        "id": "f6524f03"
      },
      "source": [
        "### How would you improve this course?\n",
        "\n",
        "Are there topics which are missing, topics which could have been\n",
        "omitted and/or discussed in more depth? Feel free to add your comments\n",
        "here such as how to improve to teaching material and more."
      ]
    },
    {
      "cell_type": "markdown",
      "source": [
        "I consider the course to be very comprehensive. maybe I would add a little mention of image generation models. I think it is something perhaps too technical but very interesting"
      ],
      "metadata": {
        "id": "_Gz-LU4Mm4Cl"
      },
      "id": "_Gz-LU4Mm4Cl"
    },
    {
      "cell_type": "markdown",
      "id": "ab89b772",
      "metadata": {
        "editable": true,
        "id": "ab89b772"
      },
      "source": [
        "## Then some basic questions"
      ]
    },
    {
      "cell_type": "markdown",
      "id": "9811e1b4",
      "metadata": {
        "editable": true,
        "id": "9811e1b4"
      },
      "source": [
        "### Which is your preferred information chanel, Canvas, Discord, mail or other?"
      ]
    },
    {
      "cell_type": "markdown",
      "source": [
        "Canvas, because i can read th emessage from all courses in one place"
      ],
      "metadata": {
        "id": "NtnFJCdqm506"
      },
      "id": "NtnFJCdqm506"
    },
    {
      "cell_type": "markdown",
      "id": "6a3741fa",
      "metadata": {
        "editable": true,
        "id": "6a3741fa"
      },
      "source": [
        "### Was the weekly update with plans etc useful?"
      ]
    },
    {
      "cell_type": "markdown",
      "source": [
        "Yes very usefull"
      ],
      "metadata": {
        "id": "woZ9vEzqnBz-"
      },
      "id": "woZ9vEzqnBz-"
    },
    {
      "cell_type": "markdown",
      "id": "a51df0b9",
      "metadata": {
        "editable": true,
        "id": "a51df0b9"
      },
      "source": [
        "### Was it easy to access the course material?"
      ]
    },
    {
      "cell_type": "markdown",
      "source": [
        "Yes"
      ],
      "metadata": {
        "id": "TKT0czgKnFPl"
      },
      "id": "TKT0czgKnFPl"
    },
    {
      "cell_type": "markdown",
      "id": "762d5153",
      "metadata": {
        "editable": true,
        "id": "762d5153"
      },
      "source": [
        "### Which resources and tools did you use? Jupyter-notebooks, GitHub, the various textbooks we have recommended, etc etc"
      ]
    },
    {
      "cell_type": "markdown",
      "source": [
        "Github and jupyter notebook for sure"
      ],
      "metadata": {
        "id": "y_Is-TPInJf0"
      },
      "id": "y_Is-TPInJf0"
    },
    {
      "cell_type": "markdown",
      "id": "2bf11aae",
      "metadata": {
        "editable": true,
        "id": "2bf11aae"
      },
      "source": [
        "### If you did not attend the lectures or the lab sessions, which resources did you use?"
      ]
    },
    {
      "cell_type": "markdown",
      "id": "3f92f5ff",
      "metadata": {
        "editable": true,
        "id": "3f92f5ff"
      },
      "source": [
        "### Any other topics, impressions, ideas etc you would like to share with us?"
      ]
    }
  ],
  "metadata": {
    "colab": {
      "provenance": []
    }
  },
  "nbformat": 4,
  "nbformat_minor": 5
}