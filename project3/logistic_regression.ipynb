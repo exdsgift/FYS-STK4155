{
 "cells": [
  {
   "cell_type": "markdown",
   "metadata": {},
   "source": [
    "# Data Setup"
   ]
  },
  {
   "cell_type": "code",
   "execution_count": 1,
   "metadata": {},
   "outputs": [
    {
     "name": "stdout",
     "output_type": "stream",
     "text": [
      "Files and directories in 'C:\\Users\\lotop\\.cache\\kagglehub\\datasets\\fmena14\\volcanoesvenus\\versions\\1':\n",
      "['Volcanoes_test', 'Volcanoes_train']\n",
      "Files in 'Volcanoes_train':\n",
      "['train_images.csv', 'train_labels.csv']\n",
      "Files in 'Volcanoes_test':\n",
      "['test_images.csv', 'test_labels.csv']\n"
     ]
    }
   ],
   "source": [
    "import kagglehub\n",
    "import os\n",
    "import numpy as np\n",
    "import pandas as pd\n",
    "\n",
    "# Download latest version\n",
    "path = kagglehub.dataset_download(\"fmena14/volcanoesvenus\")\n",
    "\n",
    "# Get the list of all files and directories \n",
    "files = os.listdir(path)\n",
    "print(f\"Files and directories in '{path}':\\n{files}\")  \n",
    "\n",
    "train_files = os.listdir(os.path.join(path, 'Volcanoes_train'))\n",
    "test_files = os.listdir(os.path.join(path, 'Volcanoes_test'))\n",
    "\n",
    "# Check files inside the 'Volcanoes_test' and 'Volcanoes_train' files\n",
    "print(f\"Files in 'Volcanoes_train':\\n{train_files}\")\n",
    "print(f\"Files in 'Volcanoes_test':\\n{test_files}\")\n",
    "\n",
    "# We use 'header=None' for 'X_train' and 'X_test' so pandas doesn't treat the first row as indeces\n",
    "X_train = pd.read_csv(os.path.join(path, 'Volcanoes_train', 'train_images.csv'), header=None)\n",
    "y_train = pd.read_csv(os.path.join(path, 'Volcanoes_train', 'train_labels.csv'))\n",
    "X_test = pd.read_csv(os.path.join(path, 'Volcanoes_test', 'test_images.csv'), header=None)\n",
    "y_test = pd.read_csv(os.path.join(path, 'Volcanoes_test', 'test_labels.csv'))"
   ]
  },
  {
   "cell_type": "markdown",
   "metadata": {},
   "source": [
    "# Data Preprocessing"
   ]
  },
  {
   "cell_type": "code",
   "execution_count": 2,
   "metadata": {},
   "outputs": [
    {
     "name": "stdout",
     "output_type": "stream",
     "text": [
      "   0      1      2      3      4      5      6      7      8      9      ...  \\\n",
      "0     95    101     99    103     95     86     96     89     70    104  ...   \n",
      "1     91     92     91     89     92     93     96    101    107    104  ...   \n",
      "2     87     70     72     74     84     78     93    104    106    106  ...   \n",
      "3      0      0      0      0      0      0      0      0      0      0  ...   \n",
      "4    114    118    124    119     95    118    105    116    123    112  ...   \n",
      "\n",
      "   12090  12091  12092  12093  12094  12095  12096  12097  12098  12099  \n",
      "0    111    107     92     89    103     99    117    116    118     96  \n",
      "1    103     92     93     95     98    105    104    100     90     81  \n",
      "2     84     71     95    102     94     80     91     80     84     90  \n",
      "3     94     81     89     84     80     90     92     80     88     96  \n",
      "4    116    113    102     93    109    104    106    117    111    115  \n",
      "\n",
      "[5 rows x 12100 columns]\n",
      "--------------------------------------------------------------------------------\n",
      "   Volcano?  Type  Radius  Number Volcanoes\n",
      "0         1   3.0   17.46               1.0\n",
      "1         0   NaN     NaN               NaN\n",
      "2         0   NaN     NaN               NaN\n",
      "3         0   NaN     NaN               NaN\n",
      "4         0   NaN     NaN               NaN\n",
      "--------------------------------------------------------------------------------\n",
      "X_train shape: (7000, 12100)\n",
      "y_train shape: (7000, 4)\n",
      "X_test shape: (2734, 12100)\n",
      "y_test shape: (2734, 4)\n",
      "--------------------------------------------------------------------------------\n",
      "<class 'pandas.core.frame.DataFrame'>\n",
      "RangeIndex: 7000 entries, 0 to 6999\n",
      "Columns: 12100 entries, 0 to 12099\n",
      "dtypes: int64(12100)\n",
      "memory usage: 646.2 MB\n",
      "None\n",
      "--------------------------------------------------------------------------------\n",
      "<class 'pandas.core.frame.DataFrame'>\n",
      "RangeIndex: 7000 entries, 0 to 6999\n",
      "Data columns (total 4 columns):\n",
      " #   Column            Non-Null Count  Dtype  \n",
      "---  ------            --------------  -----  \n",
      " 0   Volcano?          7000 non-null   int64  \n",
      " 1   Type              1000 non-null   float64\n",
      " 2   Radius            1000 non-null   float64\n",
      " 3   Number Volcanoes  1000 non-null   float64\n",
      "dtypes: float64(3), int64(1)\n",
      "memory usage: 218.9 KB\n",
      "None\n"
     ]
    }
   ],
   "source": [
    "print(X_train.head())\n",
    "print('-'*80)\n",
    "print(y_train.head())\n",
    "print('-'*80)\n",
    "print(f'X_train shape: {X_train.shape}\\ny_train shape: {y_train.shape}\\nX_test shape: {X_test.shape}\\ny_test shape: {y_test.shape}')\n",
    "print('-'*80)\n",
    "print(X_train.info())\n",
    "print('-'*80)\n",
    "print(y_train.info())"
   ]
  },
  {
   "cell_type": "markdown",
   "metadata": {},
   "source": [
    "In this analysis, we are only interested in identifying the presence or absence of volcanoes. Therefore, the `Volcano?` column will be used as the target variable. Fortunately, it doesn't contain any NaN values. The NaN values in the other columns (`Type`, `Radius`, `Number Volcanoes`) are irrelevant for this task and can be safely ignored."
   ]
  },
  {
   "cell_type": "code",
   "execution_count": 3,
   "metadata": {},
   "outputs": [],
   "source": [
    "# Extract the 'Volcano?' column as the target variable\n",
    "y_train = y_train['Volcano?']\n",
    "y_test = y_test['Volcano?']"
   ]
  },
  {
   "cell_type": "markdown",
   "metadata": {},
   "source": [
    "## Corrupted images"
   ]
  },
  {
   "cell_type": "markdown",
   "metadata": {},
   "source": [
    "Before any step in our data preprocessing pipeline (normalization, dimensionality reduction, etc.) we need to address the corrupted data present in the dataset."
   ]
  },
  {
   "cell_type": "code",
   "execution_count": null,
   "metadata": {},
   "outputs": [
    {
     "name": "stdout",
     "output_type": "stream",
     "text": [
      "209 corrupted images\n"
     ]
    }
   ],
   "source": [
    "def corruptedImages(data):\n",
    "    corruptedImagesIndex = []\n",
    "    for index, image in enumerate(np.resize(data, (data.shape[0], 12100))): # resize (7000, 110, 110, 1) to (7000,12100)\n",
    "        sum = 0\n",
    "        for pixelIndex in range(0,len(image)):\n",
    "            sum += image[pixelIndex]\n",
    "            if pixelIndex == 10:\n",
    "                break\n",
    "        if sum == 0:\n",
    "            corruptedImagesIndex.append(index)\n",
    "        else:\n",
    "            sum = 0\n",
    "\n",
    "    for index, image in enumerate(np.resize(data, (data.shape[0], 12100))): # resize (7000, 110, 110, 1) to (7000,12100)\n",
    "        sum = 0\n",
    "        for pixelIndex in range(0,len(image),110):\n",
    "            sum += image[pixelIndex]\n",
    "            if pixelIndex == 10:\n",
    "                break\n",
    "        if sum == 0 and index not in corruptedImagesIndex:\n",
    "            corruptedImagesIndex.append(index)\n",
    "        else:\n",
    "            sum = 0\n",
    "    return corruptedImagesIndex\n",
    " \n",
    "print(str(len(corruptedImages(X_train)))+\" corrupted images\")"
   ]
  },
  {
   "cell_type": "code",
   "execution_count": 5,
   "metadata": {},
   "outputs": [],
   "source": [
    "def deleteCorrupted(X, y, corruptedIndexList):\n",
    "    for i in corruptedIndexList:\n",
    "        X.drop(i, inplace=True) # Drop the corrupted\n",
    "        y.drop(i, inplace=True) \n",
    "    \n",
    "    X.reset_index(inplace=True) # Reconstruct the index\n",
    "    X.drop(['index'], axis=1, inplace=True) # Delete old index column\n",
    "    #Because they are pandas.series we don't need to deal with index\n",
    "    #Because we use inplace=True we don't need to return something"
   ]
  },
  {
   "cell_type": "code",
   "execution_count": 6,
   "metadata": {},
   "outputs": [],
   "source": [
    "trainCorruptedList = corruptedImages(X_train)\n",
    "testCorruptedList = corruptedImages(X_test)\n",
    "\n",
    "deleteCorrupted(X_train, y_train, trainCorruptedList)\n",
    "deleteCorrupted(X_test, y_test, testCorruptedList)"
   ]
  },
  {
   "cell_type": "code",
   "execution_count": 7,
   "metadata": {},
   "outputs": [
    {
     "name": "stdout",
     "output_type": "stream",
     "text": [
      "X_train:\t (6791, 12100) \n",
      "y_train:\t (6791,) \n",
      "X_test:\t\t (2655, 12100) \n",
      "y_test:\t\t (2655,)\n"
     ]
    }
   ],
   "source": [
    "print(\"X_train:\\t\",X_train.shape,\"\\ny_train:\\t\",y_train.shape,\"\\nX_test:\\t\\t\",X_test.shape,\"\\ny_test:\\t\\t\",y_test.shape)"
   ]
  },
  {
   "cell_type": "markdown",
   "metadata": {},
   "source": [
    "## Data normalization"
   ]
  },
  {
   "cell_type": "markdown",
   "metadata": {},
   "source": [
    "The main classifier we want to implement in this analysis is logistic regression. For this reason, the normalization of the data is required.\n",
    "\n",
    "In this particular case, dividing all input values by the highest value ($=255$) is essentially equivalent to using the MinMaxScaler. However, the former approach has the main advantage of computational efficiency, so it's preferred."
   ]
  },
  {
   "cell_type": "code",
   "execution_count": 8,
   "metadata": {},
   "outputs": [],
   "source": [
    "def raw_image_normalizer(X):\n",
    "    '''\n",
    "    Takes as input flattened raw images and normalizes them by dividing its values for the highest value.\n",
    "\n",
    "    Input parameters:\n",
    "    - X: A feature matrix X.\n",
    "\n",
    "    Output:\n",
    "    - X_normalized: The respective normalized feature matrix X.\n",
    "    '''\n",
    "\n",
    "    max_value = X.values.max()\n",
    "    X_normalized = X / max_value\n",
    "\n",
    "    return X_normalized"
   ]
  },
  {
   "cell_type": "code",
   "execution_count": 9,
   "metadata": {},
   "outputs": [],
   "source": [
    "# Normalization of both train and test inputs\n",
    "\n",
    "X_train = raw_image_normalizer(X_train)\n",
    "X_test = raw_image_normalizer(X_test)"
   ]
  },
  {
   "cell_type": "markdown",
   "metadata": {},
   "source": [
    "## Dimensionality reduction"
   ]
  },
  {
   "cell_type": "markdown",
   "metadata": {},
   "source": [
    "After normalizing the data, we can proceed to the dimensionality reduction part. \n",
    "\n",
    "### Why use dimensionality reduction?\n",
    "\n",
    "In the training data, we have a total number of features ($p$) equal to $12 \\, 100$, and a total number of samples ($n$) equal to $5 \\, 000$. This property of our feature matrix ($p >> n$) can cause several problems, such as \n",
    "\n",
    "- **Overfitting**: High feature-to-sample ratios increase the risk of overfitting, leading to overly complex decision boundaries.\n",
    "- **Slow computation**: High-dimensional and redundant features can make optimization methods require more iterations.\n",
    "\n",
    "For all of the above reasons, we will use PCA to reduce the dimensionality of the data. We aim to retain about $95/%$ of the total variance.\n",
    "\n",
    "### Why do we focus on the retained variance rather than the number of dimensions?\n",
    "\n",
    "Rather than arbitrarily choosing the number of dimensions to reduce to, it is generally preferable to choose the number of dimensions that add up to a sufficiently large portion of the variance (e.g., $95\\%$). Unless, of course, we are reducing the dimensionality for data visualization - in which case we will generally want to reduce the dimensionality to $2$ or $3$.\n",
    "\n",
    "### References\n",
    "\n",
    "- ML Jupyter book: https://compphysics.github.io/MachineLearning/doc/LectureNotes/_build/html/chapter8.html.\n",
    "- Trevor Hastie, Robert Tibshirani, and Jerome Friedman. *The Elements of Statistical Learning* (mainly for the part regarding $p >> n$ and numerical instability)."
   ]
  },
  {
   "cell_type": "code",
   "execution_count": 10,
   "metadata": {},
   "outputs": [],
   "source": [
    "from sklearn.decomposition import PCA\n",
    "\n",
    "# Fit PCA on the training data (calculate principal components)\n",
    "pca = PCA(n_components=0.95)\n",
    "X_train_reduced = pca.fit_transform(X_train)\n",
    "\n",
    "# Transform the test data using the same PCA model\n",
    "X_test_reduced = pca.transform(X_test)"
   ]
  },
  {
   "cell_type": "code",
   "execution_count": 11,
   "metadata": {},
   "outputs": [
    {
     "name": "stdout",
     "output_type": "stream",
     "text": [
      "Number of components retained: 2069\n",
      "Cumulative explained variance: [0.55087531 0.57351014 0.58925815 ... 0.94994306 0.94998573 0.95002836]\n"
     ]
    }
   ],
   "source": [
    "print(f\"Number of components retained: {pca.n_components_}\")\n",
    "print(f\"Cumulative explained variance: {pca.explained_variance_ratio_.cumsum()}\")"
   ]
  },
  {
   "cell_type": "markdown",
   "metadata": {},
   "source": [
    "The dimensionality was successfully reduced from $12 \\, 100$ to $2 \\, 069$, while retaining $95\\%$ of the variance. We managed to achieve our objective in terms of dimensionality reduction."
   ]
  },
  {
   "cell_type": "markdown",
   "metadata": {},
   "source": [
    "## Oversampling\n",
    "\n",
    "Finally, we need to address the fact that the number of volcanoes' images in the training data is just a small portion of the total number of images. For this reason, we will implement **SMOTE** (Synthetic Minority Over-sampling Technique). This algorithm allows us to generates synthetic samples by interpolating between existing minority class samples."
   ]
  },
  {
   "cell_type": "code",
   "execution_count": 12,
   "metadata": {},
   "outputs": [],
   "source": [
    "from imblearn.over_sampling import SMOTE\n",
    "\n",
    "smote = SMOTE(random_state=42)\n",
    "X_train_balanced, y_train_balanced = smote.fit_resample(X_train_reduced, y_train)"
   ]
  },
  {
   "cell_type": "code",
   "execution_count": 13,
   "metadata": {},
   "outputs": [
    {
     "name": "stdout",
     "output_type": "stream",
     "text": [
      "Counter({1: 5804, 0: 5804})\n"
     ]
    }
   ],
   "source": [
    "from collections import Counter\n",
    "\n",
    "# We verify the new class distribution\n",
    "print(Counter(y_train_balanced))"
   ]
  },
  {
   "cell_type": "markdown",
   "metadata": {},
   "source": [
    "We used to have 5804 non-volcano images and 987 volcano images. After applying SMOTE, the dataset results balanced for both classes."
   ]
  },
  {
   "cell_type": "markdown",
   "metadata": {},
   "source": [
    "# Logistic regression"
   ]
  },
  {
   "cell_type": "markdown",
   "metadata": {},
   "source": [
    "## Logistic regression class"
   ]
  },
  {
   "cell_type": "code",
   "execution_count": 14,
   "metadata": {},
   "outputs": [],
   "source": [
    "import numpy as np\n",
    "from sklearn.metrics import accuracy_score, precision_score, recall_score, f1_score\n",
    "from sklearn.preprocessing import StandardScaler\n",
    "import matplotlib.pyplot as plt\n",
    "\n",
    "\n",
    "class LogisticRegressionSGD:\n",
    "    \"\"\"\n",
    "    Logistic Regression classifier using Stochastic Gradient Descent (SGD) optimization.\n",
    "\n",
    "    This class supports logistic regression with various features such as:\n",
    "    - Mini-batch SGD with momentum.\n",
    "    - L2 regularization.\n",
    "    - Early stopping with patience.\n",
    "    - Hyperparameter analysis for tuning learning rate and regularization parameters.\n",
    "    \"\"\"\n",
    "    def __init__(self, learning_rate=0.01, num_iterations=1000, batch_size=32, momentum=0.0, l2_lambda=0.0, patience=10, tol=1e-4, verbose=False):\n",
    "        self.learning_rate = learning_rate\n",
    "        self.num_iterations = num_iterations\n",
    "        self.batch_size = batch_size\n",
    "        self.momentum = momentum\n",
    "        self.l2_lambda = l2_lambda\n",
    "        self.patience = patience  # Early stopping patience\n",
    "        self.tol = tol  # Minimum improvement threshold for early stopping\n",
    "        self.beta = None  # Vector of weights for the logistic regression model\n",
    "        self.verbose = verbose\n",
    "        self.loss_history = []\n",
    "\n",
    "    def sigmoid(self, z):\n",
    "        return 1 / (1 + np.exp(-z))\n",
    "\n",
    "    def compute_loss(self, X, y):\n",
    "        y_pred = self.sigmoid(X @ self.beta)\n",
    "        # Clip y_pred to avoid log(0) issues\n",
    "        y_pred = np.clip(y_pred, 1e-10, 1 - 1e-10)\n",
    "        loss = -np.mean(y * np.log(y_pred) + (1 - y) * np.log(1 - y_pred))\n",
    "        if self.l2_lambda > 0:\n",
    "            loss += (self.l2_lambda / 2) * np.sum(self.beta ** 2)\n",
    "        return loss\n",
    "\n",
    "    def SGDfit(self, X, y):\n",
    "        samples, features = X.shape\n",
    "        self.beta = np.random.randn(features, 1) * 0.01  # Small initialization\n",
    "        velocity = np.zeros((features, 1))\n",
    "\n",
    "        # Initialize best_loss to infinity to ensure any first epoch loss will be smaller, allowing it to update.\n",
    "        best_loss = float('inf')\n",
    "        patience_counter = 0\n",
    "\n",
    "        for epoch in range(self.num_iterations):\n",
    "            # Shuffle data\n",
    "            shuffled_indices = np.random.permutation(samples)\n",
    "            X_shuffled = X[shuffled_indices]\n",
    "            y_shuffled = y[shuffled_indices].reshape(-1, 1)\n",
    "\n",
    "            # Loop over mini-batches\n",
    "            for i in range(0, samples, self.batch_size):\n",
    "                X_batch = X_shuffled[i:i + self.batch_size]\n",
    "                y_batch = y_shuffled[i:i + self.batch_size]\n",
    "\n",
    "                # Compute predictions\n",
    "                y_predicted = self.sigmoid(X_batch @ self.beta)\n",
    "\n",
    "                # Compute the gradient with L2 regularization\n",
    "                gradient = (X_batch.T @ (y_predicted - y_batch)) / self.batch_size\n",
    "                if self.l2_lambda > 0:\n",
    "                    gradient += self.l2_lambda * self.beta\n",
    "\n",
    "                # Update velocity and beta with momentum\n",
    "                velocity = self.momentum * velocity + self.learning_rate * gradient\n",
    "                self.beta -= velocity\n",
    "\n",
    "            # Calculate and check loss for early stopping\n",
    "            current_loss = self.compute_loss(X, y)\n",
    "            self.loss_history.append(current_loss)  # Track loss over epochs\n",
    "\n",
    "            # Print loss every 100 epochs if verbose is True\n",
    "            if self.verbose and epoch % 100 == 0:\n",
    "                print(f\"Epoch {epoch}: Training Loss = {current_loss:.4f}\")\n",
    "\n",
    "            if current_loss < best_loss - self.tol:\n",
    "                best_loss = current_loss\n",
    "                patience_counter = 0  # Reset counter if improvement\n",
    "            else:\n",
    "                patience_counter += 1  # Increment counter if no significant improvement\n",
    "\n",
    "            if patience_counter >= self.patience:\n",
    "                print(f\"Stopping early at epoch {epoch + 1}\")\n",
    "                break\n",
    "\n",
    "    def predict(self, X):\n",
    "        linear_model = X @ self.beta\n",
    "        y_predicted = self.sigmoid(linear_model)\n",
    "        return [1 if i >= 0.5 else 0 for i in y_predicted]\n",
    "\n",
    "    def plot_loss_history(self):\n",
    "        plt.plot(self.loss_history)\n",
    "        plt.xlabel('Epochs')\n",
    "        plt.ylabel('Training Loss')\n",
    "        plt.title('Training Loss over Epochs')\n",
    "        plt.show()\n",
    "\n",
    "    def analyze_hyperparameters(\n",
    "        self,\n",
    "        X_train,\n",
    "        y_train,\n",
    "        X_test,\n",
    "        y_test,\n",
    "        learning_rates=None,\n",
    "        regularization_terms=None,\n",
    "        num_iterations=5000,\n",
    "        save_to_pdf=True\n",
    "    ):\n",
    "        \"\"\"\n",
    "        Perform grid search to optimize learning rate and regularization parameters,\n",
    "        including metrics like precision, recall, and F1-score.\n",
    "\n",
    "        Returns:\n",
    "        --------\n",
    "        tuple : (best_learning_rate, best_lambda, best_f1, best_model)\n",
    "            - best_learning_rate (float): Optimal learning rate based on highest F1-score.\n",
    "            - best_lambda (float): Optimal regularization term (λ) based on highest F1-score.\n",
    "            - best_f1 (float): Highest F1-score achieved.\n",
    "            - best_model (LogisticRegressionSGD): Model instance trained with best parameters.\n",
    "        \"\"\"\n",
    "        if learning_rates is None:\n",
    "            learning_rates = np.logspace(-5, 1, 70)\n",
    "        if regularization_terms is None:\n",
    "            regularization_terms = np.logspace(-4, 1, 50)\n",
    "\n",
    "        # Best parameters initialization\n",
    "        best_f1 = 0\n",
    "        best_learning_rate = None\n",
    "        best_lambda = 0.0\n",
    "        best_model = None\n",
    "\n",
    "        # Analyze learning rates\n",
    "        print(\"Analyzing learning rates...\")\n",
    "        for lr in learning_rates:\n",
    "            model = LogisticRegressionSGD(\n",
    "                learning_rate=lr,\n",
    "                num_iterations=num_iterations,\n",
    "                batch_size=self.batch_size,\n",
    "                momentum=self.momentum,\n",
    "                l2_lambda=0.01,  # Temporary regularization for LR search\n",
    "                patience=self.patience,\n",
    "                tol=self.tol\n",
    "            )\n",
    "            model.SGDfit(X_train, y_train)\n",
    "            \n",
    "            # Predictions and metrics\n",
    "            predictions = model.predict(X_test)\n",
    "            f1 = f1_score(y_test, predictions)\n",
    "            precision = precision_score(y_test, predictions)\n",
    "            recall = recall_score(y_test, predictions)\n",
    "            accuracy = accuracy_score(y_test, predictions)\n",
    "            \n",
    "            # Print verbose results\n",
    "            if self.verbose:\n",
    "                print(f\"Learning rate: {lr:.6f}, \"\n",
    "                      f\"F1-score: {f1:.4f}, \"\n",
    "                      f\"Precision: {precision:.4f}, \"\n",
    "                      f\"Recall: {recall:.4f}, \"\n",
    "                      f\"Accuracy: {accuracy:.4f}\")\n",
    "            \n",
    "            # Track best parameters based on F1-score\n",
    "            if f1 > best_f1:\n",
    "                best_f1 = f1\n",
    "                best_learning_rate = lr\n",
    "                best_model = model\n",
    "\n",
    "        print(f\"\\nBest learning rate found: {best_learning_rate:.6f} (F1-score: {best_f1:.4f})\")\n",
    "        print('-' * 60)\n",
    "\n",
    "        # Analyze regularization terms\n",
    "        print(\"\\nAnalyzing regularization terms...\")\n",
    "        for reg in regularization_terms:\n",
    "            model = LogisticRegressionSGD(\n",
    "                learning_rate=best_learning_rate,\n",
    "                num_iterations=num_iterations,\n",
    "                batch_size=self.batch_size,\n",
    "                momentum=self.momentum,\n",
    "                l2_lambda=reg,\n",
    "                patience=self.patience,\n",
    "                tol=self.tol\n",
    "            )\n",
    "            model.SGDfit(X_train, y_train)\n",
    "            \n",
    "            # Predictions and metrics\n",
    "            predictions = model.predict(X_test)\n",
    "            f1 = f1_score(y_test, predictions)\n",
    "            precision = precision_score(y_test, predictions)\n",
    "            recall = recall_score(y_test, predictions)\n",
    "            accuracy = accuracy_score(y_test, predictions)\n",
    "            \n",
    "            # Print verbose results\n",
    "            if self.verbose:\n",
    "                print(f\"Lambda: {reg:.6f}, \"\n",
    "                      f\"F1-score: {f1:.4f}, \"\n",
    "                      f\"Precision: {precision:.4f}, \"\n",
    "                      f\"Recall: {recall:.4f}, \"\n",
    "                      f\"Accuracy: {accuracy:.4f}\")\n",
    "            \n",
    "            # Track best parameters based on F1-score\n",
    "            if f1 > best_f1:\n",
    "                best_f1 = f1\n",
    "                best_lambda = reg\n",
    "                best_model = model\n",
    "\n",
    "        print(f\"\\nBest regularization term found: {best_lambda:.6f} (F1-score: {best_f1:.4f})\")\n",
    "        return best_learning_rate, best_lambda, best_f1, best_model"
   ]
  },
  {
   "cell_type": "markdown",
   "metadata": {},
   "source": [
    "## Logistic regression data implementation"
   ]
  },
  {
   "cell_type": "markdown",
   "metadata": {},
   "source": [
    "### Before fine-tuning of hyperparameters"
   ]
  },
  {
   "cell_type": "code",
   "execution_count": 15,
   "metadata": {},
   "outputs": [],
   "source": [
    "model = LogisticRegressionSGD(\n",
    "    learning_rate=0.01,\n",
    "    num_iterations=1000,\n",
    "    batch_size=32,\n",
    "    momentum=0.9,\n",
    "    l2_lambda=0.1,\n",
    "    patience=10,\n",
    "    tol=1e-4,\n",
    "    verbose=True\n",
    ")"
   ]
  },
  {
   "cell_type": "code",
   "execution_count": 17,
   "metadata": {},
   "outputs": [
    {
     "name": "stdout",
     "output_type": "stream",
     "text": [
      "Epoch 0: Training Loss = 0.8335\n",
      "Stopping early at epoch 21\n"
     ]
    }
   ],
   "source": [
    "# Train the model\n",
    "model.SGDfit(X_train_balanced, y_train_balanced.values)\n",
    "\n",
    "# Make predictions on the train set\n",
    "train_predictions = model.predict(X_train_balanced)\n",
    "\n",
    "# Make predictions on the test set\n",
    "predictions = model.predict(X_test_reduced)"
   ]
  },
  {
   "cell_type": "code",
   "execution_count": 19,
   "metadata": {},
   "outputs": [
    {
     "name": "stdout",
     "output_type": "stream",
     "text": [
      "Classification Report on Train Set:\n",
      "              precision    recall  f1-score   support\n",
      "\n",
      "  No Volcano       0.95      0.64      0.77      5804\n",
      "     Volcano       0.73      0.97      0.83      5804\n",
      "\n",
      "    accuracy                           0.80     11608\n",
      "   macro avg       0.84      0.80      0.80     11608\n",
      "weighted avg       0.84      0.80      0.80     11608\n",
      "\n",
      "Classification Report on Test Set:\n",
      "              precision    recall  f1-score   support\n",
      "\n",
      "  No Volcano       0.98      0.63      0.76      2223\n",
      "     Volcano       0.32      0.92      0.48       432\n",
      "\n",
      "    accuracy                           0.67      2655\n",
      "   macro avg       0.65      0.77      0.62      2655\n",
      "weighted avg       0.87      0.67      0.72      2655\n",
      "\n"
     ]
    }
   ],
   "source": [
    "from sklearn.metrics import classification_report\n",
    "\n",
    "# Evaluate performance on the train set\n",
    "print(\"Classification Report on Train Set:\")\n",
    "print(classification_report(y_train_balanced, train_predictions, target_names=[\"No Volcano\", \"Volcano\"]))\n",
    "\n",
    "# Evaluation of the model\n",
    "print(\"Classification Report on Test Set:\")\n",
    "print(classification_report(y_test, predictions, target_names=[\"No Volcano\", \"Volcano\"]))"
   ]
  },
  {
   "cell_type": "markdown",
   "metadata": {},
   "source": [
    "### After fine-tuning of hyperparameters"
   ]
  },
  {
   "cell_type": "code",
   "execution_count": 20,
   "metadata": {},
   "outputs": [
    {
     "name": "stdout",
     "output_type": "stream",
     "text": [
      "Analyzing learning rates...\n",
      "Stopping early at epoch 12\n",
      "Learning rate: 0.000100, F1-score: 0.4522, Precision: 0.3035, Recall: 0.8866, Accuracy: 0.6505\n",
      "Stopping early at epoch 11\n",
      "Learning rate: 0.000278, F1-score: 0.5000, Precision: 0.3431, Recall: 0.9213, Accuracy: 0.7002\n",
      "Stopping early at epoch 11\n",
      "Learning rate: 0.000774, F1-score: 0.5211, Precision: 0.3602, Recall: 0.9421, Accuracy: 0.7183\n",
      "Stopping early at epoch 11\n",
      "Learning rate: 0.002154, F1-score: 0.5270, Precision: 0.3648, Recall: 0.9491, Accuracy: 0.7228\n",
      "Stopping early at epoch 11\n",
      "Learning rate: 0.005995, F1-score: 0.5304, Precision: 0.3680, Recall: 0.9491, Accuracy: 0.7266\n",
      "Stopping early at epoch 13\n",
      "Learning rate: 0.016681, F1-score: 0.5178, Precision: 0.3570, Recall: 0.9421, Accuracy: 0.7145\n",
      "Stopping early at epoch 18\n",
      "Learning rate: 0.046416, F1-score: 0.5071, Precision: 0.3466, Recall: 0.9444, Accuracy: 0.7013\n",
      "Stopping early at epoch 20\n",
      "Learning rate: 0.129155, F1-score: 0.3917, Precision: 0.2564, Recall: 0.8287, Accuracy: 0.5812\n",
      "Stopping early at epoch 13\n",
      "Learning rate: 0.359381, F1-score: 0.4730, Precision: 0.3179, Recall: 0.9236, Accuracy: 0.6652\n",
      "Stopping early at epoch 24\n",
      "Learning rate: 1.000000, F1-score: 0.4105, Precision: 0.2686, Recall: 0.8704, Accuracy: 0.5932\n",
      "\n",
      "Best learning rate found: 0.005995 (F1-score: 0.5304)\n",
      "------------------------------------------------------------\n",
      "\n",
      "Analyzing regularization terms...\n",
      "Stopping early at epoch 11\n",
      "Lambda: 0.001000, F1-score: 0.5456, Precision: 0.3840, Recall: 0.9421, Accuracy: 0.7446\n",
      "Stopping early at epoch 11\n",
      "Lambda: 0.002783, F1-score: 0.5477, Precision: 0.3856, Recall: 0.9444, Accuracy: 0.7461\n",
      "Stopping early at epoch 11\n",
      "Lambda: 0.007743, F1-score: 0.5250, Precision: 0.3628, Recall: 0.9491, Accuracy: 0.7205\n",
      "Stopping early at epoch 11\n",
      "Lambda: 0.021544, F1-score: 0.5217, Precision: 0.3600, Recall: 0.9468, Accuracy: 0.7175\n",
      "Stopping early at epoch 11\n",
      "Lambda: 0.059948, F1-score: 0.5160, Precision: 0.3566, Recall: 0.9329, Accuracy: 0.7153\n",
      "Stopping early at epoch 18\n",
      "Lambda: 0.166810, F1-score: 0.3720, Precision: 0.2423, Recall: 0.8009, Accuracy: 0.5601\n",
      "Stopping early at epoch 23\n",
      "Lambda: 0.464159, F1-score: 0.4556, Precision: 0.3074, Recall: 0.8796, Accuracy: 0.6580\n",
      "Stopping early at epoch 36\n",
      "Lambda: 1.291550, F1-score: 0.4577, Precision: 0.3096, Recall: 0.8773, Accuracy: 0.6618\n",
      "Stopping early at epoch 28\n",
      "Lambda: 3.593814, F1-score: 0.2665, Precision: 0.1729, Recall: 0.5810, Accuracy: 0.4795\n",
      "Stopping early at epoch 20\n",
      "Lambda: 10.000000, F1-score: 0.2665, Precision: 0.1733, Recall: 0.5764, Accuracy: 0.4836\n",
      "\n",
      "Best regularization term found: 0.002783 (F1-score: 0.5477)\n",
      "Best Learning Rate: 0.005994842503189409\n",
      "Best Regularization Term (Lambda): 0.0027825594022071257\n",
      "Best F1-Score: 0.5476510067114094\n"
     ]
    }
   ],
   "source": [
    "# Define ranges for hyperparameter search\n",
    "learning_rates = np.logspace(-4, 0, 10)  # Learning rates between 10^(-4) and 1\n",
    "regularization_terms = np.logspace(-3, 1, 10)  # Regularization terms between 10^(-3) and 10.\n",
    "\n",
    "# Perform hyperparameter analysis\n",
    "best_lr, best_lambda, best_f1, best_model = model.analyze_hyperparameters(\n",
    "    X_train_balanced,\n",
    "    y_train_balanced.values,\n",
    "    X_test_reduced,\n",
    "    y_test.values,\n",
    "    learning_rates=learning_rates,\n",
    "    regularization_terms=regularization_terms,\n",
    "    num_iterations=1000  # Adjust iterations if needed\n",
    ")\n",
    "\n",
    "# Display the best hyperparameters and F1-score\n",
    "print(f\"Best Learning Rate: {best_lr}\")\n",
    "print(f\"Best Regularization Term (Lambda): {best_lambda}\")\n",
    "print(f\"Best F1-Score: {best_f1}\")"
   ]
  },
  {
   "cell_type": "code",
   "execution_count": 21,
   "metadata": {},
   "outputs": [],
   "source": [
    "# Final model with optimal hyperparameters\n",
    "final_model = LogisticRegressionSGD(\n",
    "    learning_rate=best_lr,           # Best learning rate found\n",
    "    num_iterations=1000,             # Number of iterations for training\n",
    "    batch_size=32,                   # Batch size for SGD\n",
    "    momentum=0.9,                    # Momentum to stabilize training\n",
    "    l2_lambda=best_lambda,           # Best regularization term found\n",
    "    patience=10,                     # Early stopping patience\n",
    "    tol=1e-4,                        # Minimum improvement threshold\n",
    "    verbose=True                     # Enable detailed output\n",
    ")"
   ]
  },
  {
   "cell_type": "code",
   "execution_count": 22,
   "metadata": {},
   "outputs": [
    {
     "name": "stdout",
     "output_type": "stream",
     "text": [
      "Epoch 0: Training Loss = 0.8860\n",
      "Stopping early at epoch 11\n"
     ]
    }
   ],
   "source": [
    "# Train the final model\n",
    "final_model.SGDfit(X_train_balanced, y_train_balanced.values)\n",
    "\n",
    "# Make predictions on the train set\n",
    "train_predictions = final_model.predict(X_train_balanced)\n",
    "\n",
    "# Make predictions on the test set\n",
    "final_predictions = final_model.predict(X_test_reduced)"
   ]
  },
  {
   "cell_type": "code",
   "execution_count": 23,
   "metadata": {},
   "outputs": [
    {
     "name": "stdout",
     "output_type": "stream",
     "text": [
      "Final Classification Report on Train Set:\n",
      "              precision    recall  f1-score   support\n",
      "\n",
      "  No Volcano       0.98      0.74      0.85      5804\n",
      "     Volcano       0.79      0.99      0.88      5804\n",
      "\n",
      "    accuracy                           0.87     11608\n",
      "   macro avg       0.89      0.87      0.86     11608\n",
      "weighted avg       0.89      0.87      0.86     11608\n",
      "\n",
      "Final Classification Report on Test Set:\n",
      "              precision    recall  f1-score   support\n",
      "\n",
      "  No Volcano       0.99      0.71      0.83      2223\n",
      "     Volcano       0.39      0.95      0.55       432\n",
      "\n",
      "    accuracy                           0.75      2655\n",
      "   macro avg       0.69      0.83      0.69      2655\n",
      "weighted avg       0.89      0.75      0.78      2655\n",
      "\n"
     ]
    }
   ],
   "source": [
    "from sklearn.metrics import classification_report\n",
    "\n",
    "# Evaluate performance on the train set\n",
    "print(\"Final Classification Report on Train Set:\")\n",
    "print(classification_report(y_train_balanced, train_predictions, target_names=[\"No Volcano\", \"Volcano\"]))\n",
    "\n",
    "# Evaluation of the final model\n",
    "print(\"Final Classification Report on Test Set:\")\n",
    "print(classification_report(y_test, final_predictions, target_names=[\"No Volcano\", \"Volcano\"]))"
   ]
  },
  {
   "cell_type": "markdown",
   "metadata": {},
   "source": [
    "The final classification report shows a slight improvement in performance compared to the initial report, with the accuracy increasing from $68\\%$ to $75\\%$, and the F1-scores for both classes improving. However, the model's performance is still far from ideal. While the precision for `No Volcano` remains high ($0.99$), the low precision for `Volcano` ($0.39$) reveals that many predictions for `Volcano` are false positives, meaning the model overestimates the `Volcano` class. Overall, although the tuning of hyperparameters helped, our logistic regression implementation still struggles with its classification performance and needs further refinement to achieve acceptable results."
   ]
  },
  {
   "cell_type": "code",
   "execution_count": 25,
   "metadata": {},
   "outputs": [
    {
     "data": {
      "image/png": "[encoded data removed]",
      "text/plain": [
       "<Figure size 800x600 with 2 Axes>"
      ]
     },
     "metadata": {},
     "output_type": "display_data"
    }
   ],
   "source": [
    "# Confusion matrix visualization\n",
    "\n",
    "import matplotlib.pyplot as plt\n",
    "import seaborn as sns\n",
    "from sklearn.metrics import confusion_matrix\n",
    "\n",
    "# Generate confusion matrix\n",
    "cm = confusion_matrix(y_test, final_predictions)\n",
    "\n",
    "# Plot the confusion matrix\n",
    "plt.figure(figsize=(8, 6))\n",
    "sns.heatmap(cm, annot=True, fmt=\"d\", cmap=\"Blues\", xticklabels=[\"No Volcano\", \"Volcano\"], yticklabels=[\"No Volcano\", \"Volcano\"])\n",
    "plt.xlabel(\"Predicted Labels\")\n",
    "plt.ylabel(\"True Labels\")\n",
    "plt.title(\"Confusion Matrix: Logistic Regression\")\n",
    "plt.show()"
   ]
  },
  {
   "cell_type": "markdown",
   "metadata": {},
   "source": [
    "The confusion matrix shows that the model tends to overestimate the presence of volcanoes, evidenced by a high number of false positives ($=681$). While the model achieves high recall for `Volcano` ($=94\\%$), its precision is quite low ($=38\\%$), indicating that many `No Volcano` instances are misclassified as `Volcano`. This suggests that the current classification threshold favors identifying volcanoes to maximize recall. To address this, fine-tuning the threshold can help reduce false positives, improving precision and achieving a better balance between precision and recall.\n",
    "\n",
    "As we did for the learning rate and the regularization hyperparameters, our search for the best threshold to apply will be based on the F1-score, given the unbalanced nature of our dataset."
   ]
  },
  {
   "cell_type": "markdown",
   "metadata": {},
   "source": [
    "### Threshold fine-tuning"
   ]
  },
  {
   "cell_type": "code",
   "execution_count": 26,
   "metadata": {},
   "outputs": [],
   "source": [
    "from sklearn.metrics import f1_score, precision_score, recall_score\n",
    "\n",
    "def predict_and_optimize_threshold(model, X, y_true, metric=\"f1\", thresholds=np.linspace(0.1, 0.9, 50)):\n",
    "    \"\"\"\n",
    "    Predict and optimize the classification threshold for a given metric.\n",
    "\n",
    "    Parameters:\n",
    "    -----------\n",
    "    model : LogisticRegressionSGD\n",
    "        The trained logistic regression model.\n",
    "    X : np.ndarray\n",
    "        Input feature matrix.\n",
    "    y_true : np.ndarray\n",
    "        True labels for the input data.\n",
    "    metric : str, optional (default=\"f1\")\n",
    "        The metric to optimize. Options: \"f1\", \"precision\", \"recall\".\n",
    "    thresholds : np.ndarray, optional\n",
    "        Array of thresholds to evaluate.\n",
    "\n",
    "    Returns:\n",
    "    --------\n",
    "    dict\n",
    "        A dictionary containing:\n",
    "        - \"best_threshold\": The optimal threshold.\n",
    "        - \"best_score\": The best score achieved.\n",
    "        - \"predictions\": The final predictions using the optimal threshold.\n",
    "    \"\"\"\n",
    "    # Initialize variables to track the best threshold and score\n",
    "    best_threshold = 0.5\n",
    "    best_score = 0\n",
    "\n",
    "    # Generate predicted probabilities\n",
    "    probabilities = model.sigmoid(X @ model.beta)\n",
    "\n",
    "    # Loop through thresholds to find the best one\n",
    "    for threshold in thresholds:\n",
    "        predictions = (probabilities >= threshold).astype(int)\n",
    "        if metric == \"f1\":\n",
    "            score = f1_score(y_true, predictions)\n",
    "        elif metric == \"precision\":\n",
    "            score = precision_score(y_true, predictions)\n",
    "        elif metric == \"recall\":\n",
    "            score = recall_score(y_true, predictions)\n",
    "        else:\n",
    "            raise ValueError(\"Invalid metric. Choose 'f1', 'precision', or 'recall'.\")\n",
    "\n",
    "        if score > best_score:\n",
    "            best_score = score\n",
    "            best_threshold = threshold\n",
    "\n",
    "    # Generate final predictions using the best threshold\n",
    "    final_predictions = (probabilities >= best_threshold).astype(int)\n",
    "\n",
    "    return {\n",
    "        \"best_threshold\": best_threshold,\n",
    "        \"best_score\": best_score,\n",
    "        \"predictions\": final_predictions\n",
    "    }\n",
    "\n",
    "# We dinamically add the function to the LogisticRegressionSGD class\n",
    "setattr(LogisticRegressionSGD, 'predict_and_optimize_threshold', predict_and_optimize_threshold)"
   ]
  },
  {
   "cell_type": "code",
   "execution_count": 27,
   "metadata": {},
   "outputs": [
    {
     "name": "stdout",
     "output_type": "stream",
     "text": [
      "Optimal Threshold: 0.79\n",
      "Best F1-Score: 0.7816\n"
     ]
    }
   ],
   "source": [
    "# Optimize the threshold for the desired metric (F1-score in this case)\n",
    "result = final_model.predict_and_optimize_threshold(\n",
    "    X=X_test_reduced,  # Test feature matrix\n",
    "    y_true=y_test,     # True test labels\n",
    "    metric=\"f1\"        # Metric to optimize (F1-score in this case)\n",
    ")\n",
    "\n",
    "# Extract results\n",
    "best_threshold = result[\"best_threshold\"]\n",
    "best_score = result[\"best_score\"]\n",
    "final_predictions = result[\"predictions\"]\n",
    "\n",
    "# Print results\n",
    "print(f\"Optimal Threshold: {best_threshold:.2f}\")\n",
    "print(f\"Best F1-Score: {best_score:.4f}\")"
   ]
  },
  {
   "cell_type": "code",
   "execution_count": 28,
   "metadata": {},
   "outputs": [
    {
     "name": "stdout",
     "output_type": "stream",
     "text": [
      "Classification Report with Optimized Threshold:\n",
      "              precision    recall  f1-score   support\n",
      "\n",
      "  No Volcano       0.96      0.96      0.96      2223\n",
      "     Volcano       0.78      0.79      0.78       432\n",
      "\n",
      "    accuracy                           0.93      2655\n",
      "   macro avg       0.87      0.87      0.87      2655\n",
      "weighted avg       0.93      0.93      0.93      2655\n",
      "\n"
     ]
    }
   ],
   "source": [
    "from sklearn.metrics import classification_report\n",
    "\n",
    "# Evaluation of the final model with optmized threshold\n",
    "print(\"Classification Report with Optimized Threshold:\")\n",
    "print(classification_report(y_test, final_predictions, target_names=[\"No Volcano\", \"Volcano\"]))"
   ]
  },
  {
   "cell_type": "markdown",
   "metadata": {},
   "source": [
    "The classification report after optimizing the threshold shows a significant improvement in performance. The accuracy increased to $93\\%$, reflecting a more balanced model. The precision for `No Volcano` is high ($0.96$), and recall is also very strong ($0.96$), indicating the model is both accurate and sensitive when predicting `No Volcano`. For `Volcano`, the precision ($0.78$) and recall ($0.79$) have also improved, suggesting a good balance between correctly identifying volcanoes and avoiding false positives.\n",
    "\n",
    "The macro average F1-score ($0.87$) indicates that the model now performs well across both classes, and the weighted average F1-score ($0.93$) confirms strong overall performance. This optimized threshold achieves a much better balance between precision and recall for both classes, addressing the previous imbalance and improving the model's general effectiveness."
   ]
  },
  {
   "cell_type": "code",
   "execution_count": 30,
   "metadata": {},
   "outputs": [
    {
     "data": {
      "image/png": "[encoded data removed]",
      "text/plain": [
       "<Figure size 800x600 with 2 Axes>"
      ]
     },
     "metadata": {},
     "output_type": "display_data"
    }
   ],
   "source": [
    "import matplotlib.pyplot as plt\n",
    "import seaborn as sns\n",
    "from sklearn.metrics import confusion_matrix\n",
    "\n",
    "# Generate the confusion matrix\n",
    "cm = confusion_matrix(y_test, final_predictions)\n",
    "\n",
    "# Plot the confusion matrix\n",
    "plt.figure(figsize=(8, 6))\n",
    "sns.heatmap(cm, annot=True, fmt=\"d\", cmap=\"Blues\", xticklabels=[\"No Volcano\", \"Volcano\"], yticklabels=[\"No Volcano\", \"Volcano\"])\n",
    "plt.xlabel(\"Predicted Labels\")\n",
    "plt.ylabel(\"True Labels\")\n",
    "plt.title(\"Confusion Matrix: Logistic Regression with Optimized Threshold\")\n",
    "\n",
    "# Save the plot as a PDF\n",
    "plt.savefig(\"confusion_matrix_log_reg_optimized.pdf\", format=\"pdf\", bbox_inches=\"tight\")\n",
    "\n",
    "# Display the plot\n",
    "plt.show()"
   ]
  },
  {
   "cell_type": "markdown",
   "metadata": {},
   "source": [
    "The confusion matrix for the final model with the optimized threshold shows strong improvement. For the `No Volcano` class, the model correctly predicts $2125$ instances, with only $92$ false positives. For the `Volcano` class, the model correctly predicts $340$ instances, while $98$ instances are misclassified as `No Volcano`. This improvement in precision and recall, particularly for the `Volcano` class, reflects the effectiveness of adjusting the threshold.\n",
    "\n",
    "Despite the progress, the key limitation of logistic regression remains its assumption of linearity. This assumption may prevent the model from fully capturing complex patterns in the data. As a result, exploring non-linear classifiers, such as decision trees, random forests, or neural networks, could provide significant performance improvements by better modeling the underlying relationships."
   ]
  }
 ],
 "metadata": {
  "kernelspec": {
   "display_name": "ml_project3_env",
   "language": "python",
   "name": "python3"
  },
  "language_info": {
   "codemirror_mode": {
    "name": "ipython",
    "version": 3
   },
   "file_extension": ".py",
   "mimetype": "text/x-python",
   "name": "python",
   "nbconvert_exporter": "python",
   "pygments_lexer": "ipython3",
   "version": "3.12.6"
  }
 },
 "nbformat": 4,
 "nbformat_minor": 2
}
